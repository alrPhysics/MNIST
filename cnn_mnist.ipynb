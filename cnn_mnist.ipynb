{
 "cells": [
  {
   "cell_type": "code",
   "execution_count": 124,
   "metadata": {},
   "outputs": [
    {
     "name": "stdout",
     "output_type": "stream",
     "text": [
      "Extracting MNIST_data/train-images-idx3-ubyte.gz\n",
      "Extracting MNIST_data/train-labels-idx1-ubyte.gz\n",
      "Extracting MNIST_data/t10k-images-idx3-ubyte.gz\n",
      "Extracting MNIST_data/t10k-labels-idx1-ubyte.gz\n"
     ]
    }
   ],
   "source": [
    "import tensorflow as tf\n",
    "from tensorflow.examples.tutorials.mnist import input_data\n",
    "import numpy as np\n",
    "import matplotlib.pyplot as plt\n",
    "\n",
    "%matplotlib inline\n",
    "mnist = input_data.read_data_sets(\"MNIST_data/\",one_hot=True)"
   ]
  },
  {
   "cell_type": "code",
   "execution_count": 13,
   "metadata": {},
   "outputs": [
    {
     "data": {
      "image/png": "[encoded data removed]",
      "text/plain": [
       "<matplotlib.figure.Figure at 0x1bd56089668>"
      ]
     },
     "metadata": {},
     "output_type": "display_data"
    }
   ],
   "source": [
    "pixels = mnist.test.images[500].reshape((28,28))\n",
    "plt.imshow(pixels, cmap = 'gray')\n",
    "plt.show()"
   ]
  },
  {
   "cell_type": "code",
   "execution_count": 114,
   "metadata": {
    "scrolled": true
   },
   "outputs": [
    {
     "name": "stdout",
     "output_type": "stream",
     "text": [
      "5000\n"
     ]
    },
    {
     "data": {
      "text/plain": [
       "[28, 28, 1]"
      ]
     },
     "execution_count": 114,
     "metadata": {},
     "output_type": "execute_result"
    }
   ],
   "source": [
    "print(len(mnist.validation.labels))\n",
    "test = tf.reshape(mnist.train.images, [-1,28,28,1])\n",
    "test.shape.as_list()[1:]\n",
    "#mnist.train.next_batch(10)[1].shape\n",
    "#mnist.train.next_batch(10)[0].shape\n"
   ]
  },
  {
   "cell_type": "code",
   "execution_count": 115,
   "metadata": {},
   "outputs": [],
   "source": [
    "def conv_layer(data, filter_size, depth, stride):\n",
    "    \n",
    "    #data.shape.as_list()[3] == data.shape[3].value\n",
    "    weights = tf.Variable(tf.truncated_normal([*filter_size,data.shape.as_list()[3],depth], stddev=0.1))\n",
    "    #maybe adjust bias change from tf.zeros?\n",
    "    bias = tf.Variable(tf.zeros(depth))\n",
    "    layer = tf.nn.conv2d(data, weights, [1,stride,stride,1], padding = 'SAME')\n",
    "    layer = tf.nn.bias_add(layer, bias)\n",
    "    layer = tf.nn.relu(layer)\n",
    "    \n",
    "    return layer"
   ]
  },
  {
   "cell_type": "code",
   "execution_count": 116,
   "metadata": {
    "collapsed": true
   },
   "outputs": [],
   "source": [
    "def flatten(data):\n",
    "    layer = tf.reshape(data,[-1, np.prod(data.shape.as_list()[1:])])\n",
    "    return layer"
   ]
  },
  {
   "cell_type": "code",
   "execution_count": 132,
   "metadata": {
    "collapsed": true
   },
   "outputs": [],
   "source": [
    "def fully_conn(data, num_outputs):\n",
    "    weights = tf.Variable(tf.truncated_normal([data.shape.as_list()[1], num_outputs], stddev = 0.1))\n",
    "    bias = tf.Variable(tf.zeros([num_outputs]))\n",
    "    layer = tf.add(tf.matmul(data, weights),bias)\n",
    "    layer = tf.nn.relu(layer)\n",
    "    return layer"
   ]
  },
  {
   "cell_type": "code",
   "execution_count": 133,
   "metadata": {
    "collapsed": true
   },
   "outputs": [],
   "source": [
    "def output(data, num_outputs):\n",
    "    weights = tf.Variable(tf.truncated_normal([data.shape.as_list()[1], num_outputs], stddev=0.1))\n",
    "    bias = tf.Variable(tf.zeros([num_outputs]))\n",
    "    out = tf.add(tf.matmul(data, weights),bias)\n",
    "    return out"
   ]
  },
  {
   "cell_type": "code",
   "execution_count": 134,
   "metadata": {
    "collapsed": true
   },
   "outputs": [],
   "source": [
    "def conv_net(data):\n",
    "    #conv_layer(data, filter_size, depth, stride)\n",
    "        \n",
    "    conv1 = conv_layer(data,(5,5),4,1)\n",
    "    conv2 = conv_layer(conv1, (4,4),8,2)\n",
    "    conv3 = conv_layer(conv2, (4,4),12,2)\n",
    "    flat = flatten(conv3)\n",
    "    fc = fully_conn(flat, 200)\n",
    "    out = output(fc, 10)\n",
    "    \n",
    "    return out"
   ]
  },
  {
   "cell_type": "code",
   "execution_count": 217,
   "metadata": {},
   "outputs": [],
   "source": [
    "#MODIFY\n",
    "tf.reset_default_graph()\n",
    "\n",
    "#x = tf.placeholder(tf.float32, [None, 28, 28, 1],'x')\n",
    "#y = tf.placeholder(tf.float32, [None,10],'y')\n",
    "\n",
    "x = tf.placeholder(tf.float32, [None, 784])\n",
    "x_shaped = tf.reshape(x, [-1,28,28,1])\n",
    "y = tf.placeholder(tf.float32, [None,10])\n",
    "\n",
    "\n",
    "\n",
    "# Model\n",
    "logits = conv_net(x_shaped)\n",
    "\n",
    "# Name logits Tensor, so that is can be loaded from disk after training\n",
    "logits = tf.identity(logits, name='logits')\n",
    "\n",
    "# Loss and Optimizer\n",
    "cost = tf.reduce_mean(tf.nn.softmax_cross_entropy_with_logits(logits=logits, labels=y))\n",
    "optimizer = tf.train.AdamOptimizer().minimize(cost)\n",
    "\n",
    "# Accuracy\n",
    "correct_pred = tf.equal(tf.argmax(logits, 1), tf.argmax(y, 1))\n",
    "accuracy = tf.reduce_mean(tf.cast(correct_pred, tf.float32), name='accuracy')"
   ]
  },
  {
   "cell_type": "code",
   "execution_count": 228,
   "metadata": {
    "collapsed": true
   },
   "outputs": [],
   "source": [
    "epochs = 5\n",
    "batch_size = 20"
   ]
  },
  {
   "cell_type": "code",
   "execution_count": 231,
   "metadata": {
    "scrolled": true
   },
   "outputs": [
    {
     "name": "stdout",
     "output_type": "stream",
     "text": [
      "2750\n",
      "Epoch  1, MNIST final batch: Loss: 0.04807165637612343  Test Accuracy: 0.9634000658988953\n",
      "Epoch  2, MNIST final batch: Loss: 0.13587458431720734  Test Accuracy: 0.9707001447677612\n",
      "Epoch  3, MNIST final batch: Loss: 0.012726414017379284  Test Accuracy: 0.9792001247406006\n",
      "Epoch  4, MNIST final batch: Loss: 0.07085911929607391  Test Accuracy: 0.9824001789093018\n",
      "Epoch  5, MNIST final batch: Loss: 0.02223198674619198  Test Accuracy: 0.9803001284599304\n"
     ]
    }
   ],
   "source": [
    "with tf.Session() as sess:\n",
    "    sess.run(tf.global_variables_initializer())\n",
    "    batches = int(len(mnist.train.labels)/batch_size)\n",
    "    print(batches)\n",
    "    for epoch in range(epochs):\n",
    "        for batch_i in range(1000):\n",
    "            batch_x, batch_y = mnist.train.next_batch(batch_size)\n",
    "            sess.run(optimizer, feed_dict={x:batch_x, y: batch_y})\n",
    "            #print(batch_i)\n",
    "            loss = sess.run(cost, feed_dict = {x:batch_x, y: batch_y})\n",
    "            test_acc = sess.run(accuracy, feed_dict = {x:mnist.test.images, y:mnist.test.labels})   \n",
    "        print('Epoch {:>2}, MNIST final batch: '.format(epoch+1), end='')\n",
    "        print('Loss: {}  Test Accuracy: {}'.format(loss, test_acc))\n",
    "\n"
   ]
  },
  {
   "cell_type": "code",
   "execution_count": null,
   "metadata": {
    "collapsed": true
   },
   "outputs": [],
   "source": []
  }
 ],
 "metadata": {
  "kernelspec": {
   "display_name": "Python 3",
   "language": "python",
   "name": "python3"
  },
  "language_info": {
   "codemirror_mode": {
    "name": "ipython",
    "version": 3
   },
   "file_extension": ".py",
   "mimetype": "text/x-python",
   "name": "python",
   "nbconvert_exporter": "python",
   "pygments_lexer": "ipython3",
   "version": "3.6.2"
  }
 },
 "nbformat": 4,
 "nbformat_minor": 2
}
